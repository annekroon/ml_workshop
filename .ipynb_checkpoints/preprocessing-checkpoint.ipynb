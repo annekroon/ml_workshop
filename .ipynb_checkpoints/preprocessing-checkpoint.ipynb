{
 "cells": [
  {
   "cell_type": "code",
   "execution_count": 68,
   "metadata": {},
   "outputs": [],
   "source": [
    "import os\n",
    "import re\n",
    "import pandas as pd\n",
    "from pandas.core.frame import DataFrame\n",
    "import sklearn\n",
    "import fasttext\n",
    "from sklearn.model_selection import train_test_split"
   ]
  },
  {
   "cell_type": "code",
   "execution_count": null,
   "metadata": {},
   "outputs": [],
   "source": [
    "df = pd.DataFrame()\n",
    "\n",
    "rootDir = '/Users/anne/surfdrive/Shared/WorkshopMachineLearning/DataForMachineLearning_ourdata/'\n",
    "for dirName, subdirList, fileList in os.walk(rootDir, topdown=False):\n",
    "    print('Found directory: %s' % dirName)\n",
    "    for fname in fileList:\n",
    "        try:\n",
    "            print('\\t%s' % fname)\n",
    "            filepath = os.path.join(rootDir, dirName, fname)\n",
    "            data = pd.read_csv(filepath)\n",
    "            data['fname'] = fname\n",
    "            df = df.append(data)\n",
    "        except:\n",
    "            print('\\n\\nThis went wrong: {}'.format(filepath) )"
   ]
  },
  {
   "cell_type": "code",
   "execution_count": 47,
   "metadata": {},
   "outputs": [],
   "source": []
  },
  {
   "cell_type": "code",
   "execution_count": 21,
   "metadata": {},
   "outputs": [
    {
     "data": {
      "image/png": "[encoded data removed]",
      "text/plain": [
       "<Figure size 432x288 with 2 Axes>"
      ]
     },
     "metadata": {
      "needs_background": "light"
     },
     "output_type": "display_data"
    }
   ],
   "source": [
    "import seaborn as sns\n",
    "\n",
    "corr = df.corr()\n",
    "\n",
    "ax = sns.heatmap(\n",
    "    corr, \n",
    "    vmin=-1, vmax=1, center=0,\n",
    "    cmap=sns.diverging_palette(20, 220, n=200),\n",
    "    square=True\n",
    ")\n",
    "\n",
    "ax.set_xticklabels(\n",
    "    ax.get_xticklabels(),\n",
    "    rotation=45,\n",
    "    horizontalalignment='right'\n",
    ");"
   ]
  },
  {
   "cell_type": "code",
   "execution_count": 14,
   "metadata": {},
   "outputs": [
    {
     "name": "stdout",
     "output_type": "stream",
     "text": [
      "The missings of uncivil are: 1093\n",
      "The missings of justification are: 1188\n",
      "The missings of constructiveness are: 1124\n",
      "The missings of positive are: 1418\n",
      "The missings of relevance are: 603\n"
     ]
    }
   ],
   "source": [
    "ls = ['uncivil', 'justification', 'constructiveness', 'positive', 'relevance']\n",
    "\n",
    "for i in ls:\n",
    "    print(\"The missings of {} are: {}\".format(i, df[i].isnull().sum(axis = 0) ) )"
   ]
  },
  {
   "cell_type": "code",
   "execution_count": 86,
   "metadata": {},
   "outputs": [],
   "source": [
    "df = pd.read_csv('/Users/anne/surfdrive/Shared/WorkshopMachineLearning/Trainingsdata_secondarydata/delib_annotated_data_1.csv')\n",
    "df.fillna(0.5, inplace=True)"
   ]
  },
  {
   "cell_type": "code",
   "execution_count": 92,
   "metadata": {},
   "outputs": [],
   "source": [
    "df['message_clean'] = df['message'].replace(\"^ *<USER>\", \"\", regex=True)\n",
    "\n",
    "df['label'] = '__label__' + df['uncivil'].astype(str)\n",
    "\n",
    "#drop label 0.5\n",
    "df_selected = df[ df['label']!= \"__label__0.5\" ]\n",
    "df_selected = df_selected[['label', 'message_clean' ]]\n",
    "train, test = train_test_split(df_selected, test_size = 0.2)"
   ]
  },
  {
   "cell_type": "code",
   "execution_count": 93,
   "metadata": {},
   "outputs": [],
   "source": [
    "train.to_csv('uncivil.txt', sep='\\t', index = False, header = False)\n",
    "test.to_csv('uncivil_test.txt', sep='\\t', index = False, header = False)"
   ]
  },
  {
   "cell_type": "code",
   "execution_count": 96,
   "metadata": {},
   "outputs": [
    {
     "name": "stdout",
     "output_type": "stream",
     "text": [
      "\n",
      "\n",
      "EPochs: 1\n",
      "N\t980\n",
      "P@1\t0.763\n",
      "R@1\t0.763\n",
      "\n",
      "\n",
      "EPochs: 11\n",
      "N\t980\n",
      "P@1\t0.715\n",
      "R@1\t0.715\n",
      "\n",
      "\n",
      "EPochs: 21\n",
      "N\t980\n",
      "P@1\t0.697\n",
      "R@1\t0.697\n",
      "\n",
      "\n",
      "EPochs: 31\n",
      "N\t980\n",
      "P@1\t0.678\n",
      "R@1\t0.678\n",
      "\n",
      "\n",
      "EPochs: 41\n",
      "N\t980\n",
      "P@1\t0.677\n",
      "R@1\t0.677\n",
      "\n",
      "\n",
      "EPochs: 51\n",
      "N\t980\n",
      "P@1\t0.676\n",
      "R@1\t0.676\n",
      "\n",
      "\n",
      "EPochs: 61\n",
      "N\t980\n",
      "P@1\t0.680\n",
      "R@1\t0.680\n",
      "\n",
      "\n",
      "EPochs: 71\n",
      "N\t980\n",
      "P@1\t0.669\n",
      "R@1\t0.669\n",
      "\n",
      "\n",
      "EPochs: 81\n",
      "N\t980\n",
      "P@1\t0.676\n",
      "R@1\t0.676\n",
      "\n",
      "\n",
      "EPochs: 91\n",
      "N\t980\n",
      "P@1\t0.687\n",
      "R@1\t0.687\n"
     ]
    }
   ],
   "source": [
    "#import fasttext\n",
    "for i in range(1,100,10):\n",
    "    model = fasttext.train_supervised('uncivil.txt', epoch=i)\n",
    "    print(\"\\n\\nEPochs:\", i)\n",
    "    print_results(*model.test('uncivil_test.txt'))"
   ]
  },
  {
   "cell_type": "code",
   "execution_count": 95,
   "metadata": {},
   "outputs": [
    {
     "name": "stdout",
     "output_type": "stream",
     "text": [
      "N\t3916\n",
      "P@1\t0.994\n",
      "R@1\t0.994\n"
     ]
    }
   ],
   "source": [
    "def print_results(N, p, r):\n",
    "    print(\"N\\t\" + str(N))\n",
    "    print(\"P@{}\\t{:.3f}\".format(1, p))\n",
    "    print(\"R@{}\\t{:.3f}\".format(1, r))\n",
    "print_results(*model.test('uncivil.txt'))"
   ]
  },
  {
   "cell_type": "code",
   "execution_count": null,
   "metadata": {},
   "outputs": [],
   "source": [
    "cmap = cmap=sns.diverging_palette(5, 250, as_cmap=True)\n",
    "\n",
    "def magnify():\n",
    "    return [dict(selector=\"th\",\n",
    "                 props=[(\"font-size\", \"7pt\")]),\n",
    "            dict(selector=\"td\",\n",
    "                 props=[('padding', \"0em 0em\")]),\n",
    "            dict(selector=\"th:hover\",\n",
    "                 props=[(\"font-size\", \"12pt\")]),\n",
    "            dict(selector=\"tr:hover td:hover\",\n",
    "                 props=[('max-width', '200px'),\n",
    "                        ('font-size', '12pt')])\n",
    "]\n",
    "\n",
    "corr.style.background_gradient(cmap, axis=1)\\\n",
    "    .set_properties(**{'max-width': '80px', 'font-size': '10pt'})\\\n",
    "    .set_caption(\"Hover to magify\")\\\n",
    "    .set_precision(2)\\\n",
    "    .set_table_styles(magnify())"
   ]
  }
 ],
 "metadata": {
  "kernelspec": {
   "display_name": "Python 3",
   "language": "python",
   "name": "python3"
  },
  "language_info": {
   "codemirror_mode": {
    "name": "ipython",
    "version": 3
   },
   "file_extension": ".py",
   "mimetype": "text/x-python",
   "name": "python",
   "nbconvert_exporter": "python",
   "pygments_lexer": "ipython3",
   "version": "3.7.2"
  }
 },
 "nbformat": 4,
 "nbformat_minor": 2
}
